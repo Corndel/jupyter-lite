{
 "cells": [
  {
   "cell_type": "markdown",
   "id": "edb4baef",
   "metadata": {},
   "source": [
    "<img src=\"https://raw.githubusercontent.com/AkulAshray/Pandas-tutorial/main/Corndel_Logos_RGB.png\" style=\"float: left; margin: 20px; height: 55px\">\n",
    "<h1 style=\" font-size:1.5em; font-family:Verdana\"> Learner Practice Notebook </h1>\n",
    "\n",
    "<hr style=\"border: 0.5px solid #504845;\">"
   ]
  },
  {
   "cell_type": "markdown",
   "id": "610d2ea6",
   "metadata": {},
   "source": [
    "<p style=\"font-size:1.2em; font-family:Helvetica; line-height: 1.7em\">\n",
    "This notebook is designed for you to practice and follow along with the main tutorial notebook. Please follow these steps:\n",
    "</p>\n",
    "\n",
    "<ol style=\"font-size:1.2em; font-family:Helvetica; line-height: 1.7em\">\n",
    "  <li><strong>Open the Main Tutorial Notebook:</strong> Read through the explanations and instructions provided in the main tutorial notebook titled \"4.5-Data Cleaning and EDA\". You can use the PDF version for offline learning</li>\n",
    "  <li><strong>Type the Code Here:</strong> As you encounter code examples in the main tutorial, type them into the code cells in this notebook. This will help you practice and develop the muscle memory essential for coding.</li>\n",
    "  <li><strong>Experiment:</strong> Feel free to experiment with the code by changing parameters or adding new lines to see how the results change.</li>\n",
    "  <li><strong>Ask Questions:</strong> If you have any questions or encounter any issues, please reach out to your instructor or refer to the provided <a href=\"https://corndel.sharepoint.com/:b:/g/Learning%20Collateral/ETRWQWet0ZhKqTIVNLG8ll0BZiSncWEhfN_Uzv_Hx-cojQ?download=1\">reference sheet</a>.</li>\n",
    "</ol>\n",
    "\n",
    "<p style=\"font-size:1.2em; font-family:Helvetica; line-height: 1.7em\">\n",
    "If you don't have all the libraries installed in your system, you can install it by removing the hashtag (#) symbol in the code below and running the cell:\n",
    "</p>"
   ]
  },
  {
   "cell_type": "code",
   "execution_count": 1,
   "id": "17537bae",
   "metadata": {},
   "outputs": [],
   "source": [
    "#!pip install pandas\n",
    "#!pip install matplotlib\n",
    "#!pip install seaborn"
   ]
  },
  {
   "cell_type": "code",
   "execution_count": 1,
   "id": "8719131d",
   "metadata": {},
   "outputs": [],
   "source": [
    "import pandas as pd\n",
    "import seaborn as sns\n",
    "import matplotlib.pyplot as plt\n",
    "import warnings\n",
    "warnings.filterwarnings('ignore')\n",
    "data = pd.read_csv('London_Airbnb_Listings_March_2023.csv')"
   ]
  },
  {
   "cell_type": "code",
   "execution_count": null,
   "id": "8dffe0bc",
   "metadata": {},
   "outputs": [],
   "source": []
  },
  {
   "cell_type": "code",
   "execution_count": null,
   "id": "46e708ac",
   "metadata": {},
   "outputs": [],
   "source": []
  },
  {
   "cell_type": "code",
   "execution_count": null,
   "id": "b2cf18d9",
   "metadata": {},
   "outputs": [],
   "source": []
  },
  {
   "cell_type": "code",
   "execution_count": null,
   "id": "075eae4f",
   "metadata": {},
   "outputs": [],
   "source": []
  }
 ],
 "metadata": {
  "kernelspec": {
   "display_name": "Python 3 (ipykernel)",
   "language": "python",
   "name": "python3"
  },
  "language_info": {
   "codemirror_mode": {
    "name": "ipython",
    "version": 3
   },
   "file_extension": ".py",
   "mimetype": "text/x-python",
   "name": "python",
   "nbconvert_exporter": "python",
   "pygments_lexer": "ipython3",
   "version": "3.10.8"
  }
 },
 "nbformat": 4,
 "nbformat_minor": 5
}
