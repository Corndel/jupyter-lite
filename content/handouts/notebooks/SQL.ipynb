{
  "metadata": {
    "kernelspec": {
      "name": "python",
      "display_name": "Python (Pyodide)",
      "language": "python"
    },
    "language_info": {
      "codemirror_mode": {
        "name": "python",
        "version": 3
      },
      "file_extension": ".py",
      "mimetype": "text/x-python",
      "name": "python",
      "nbconvert_exporter": "python",
      "pygments_lexer": "ipython3",
      "version": "3.8"
    }
  },
  "nbformat_minor": 5,
  "nbformat": 4,
  "cells": [
    {
      "id": "2c3a3758-ca2c-4cfd-a199-1acef5426eac",
      "cell_type": "markdown",
      "source": "# Querying in SQL",
      "metadata": {}
    },
    {
      "id": "d8c86c14-28bb-450e-aaae-7af09d8f4f49",
      "cell_type": "markdown",
      "source": "## Setup\n\nFirst of all, we need to suppress warnings, because there are a few frustrating but harmless warnings that come out of the `jupysql` package.",
      "metadata": {}
    },
    {
      "id": "a74eaea4-b0cc-4fa5-b2c0-0bd4686512aa",
      "cell_type": "code",
      "source": "import warnings\nwarnings.filterwarnings(\"ignore\", category=SyntaxWarning)",
      "metadata": {
        "trusted": true
      },
      "outputs": [],
      "execution_count": 1
    },
    {
      "id": "caa3e749-b13d-4a87-b554-02a20d770376",
      "cell_type": "markdown",
      "source": "Next, we install `jupysql` and load the `sql` jupyter extension.",
      "metadata": {}
    },
    {
      "id": "f198da2d-df5a-4153-aa76-331bea0e540c",
      "cell_type": "code",
      "source": "%pip install -q jupysql\n%load_ext sql",
      "metadata": {
        "trusted": true
      },
      "outputs": [],
      "execution_count": 2
    },
    {
      "id": "0626825e-ec2f-4312-870c-66e24f24e576",
      "cell_type": "markdown",
      "source": "Finally, we need to connect to the database. The below command will connect to a SQLite database stored in the `data` directory.",
      "metadata": {}
    },
    {
      "id": "71c56989-fabb-4cb0-b4a1-d24b120235b6",
      "cell_type": "code",
      "source": "%sql sqlite:///../data/chinook.sqlite",
      "metadata": {
        "trusted": true
      },
      "outputs": [],
      "execution_count": 11
    },
    {
      "id": "30497a2e-803f-4569-a10d-71d7930f9f4b",
      "cell_type": "markdown",
      "source": "Now we are ready to start working with the database.",
      "metadata": {}
    },
    {
      "id": "ea923233-0f0e-40b2-a437-cf34e2755cd9",
      "cell_type": "markdown",
      "source": "## Querying the database\n\nTo run SQL commands against the connected database, we start with `%sql` and then simply write our command.",
      "metadata": {}
    },
    {
      "id": "eeb520f2-9542-4d30-a0dc-16a763791416",
      "cell_type": "code",
      "source": "%sql SELECT * FROM Artist;",
      "metadata": {
        "trusted": true
      },
      "outputs": [
        {
          "output_type": "display_data",
          "data": {
            "text/plain": "Running query in 'sqlite:///../data/chinook.sqlite'",
            "text/html": "<span style=\"None\">Running query in &#x27;sqlite:///../data/chinook.sqlite&#x27;</span>"
          },
          "metadata": {}
        },
        {
          "execution_count": 12,
          "output_type": "execute_result",
          "data": {
            "text/plain": "+----------+----------------------+\n| ArtistId |         Name         |\n+----------+----------------------+\n|    1     |        AC/DC         |\n|    2     |        Accept        |\n|    3     |      Aerosmith       |\n|    4     |  Alanis Morissette   |\n|    5     |   Alice In Chains    |\n|    6     | Antônio Carlos Jobim |\n|    7     |     Apocalyptica     |\n|    8     |      Audioslave      |\n|    9     |       BackBeat       |\n|    10    |     Billy Cobham     |\n+----------+----------------------+\nTruncated to displaylimit of 10.",
            "text/html": "<table>\n    <thead>\n        <tr>\n            <th>ArtistId</th>\n            <th>Name</th>\n        </tr>\n    </thead>\n    <tbody>\n        <tr>\n            <td>1</td>\n            <td>AC/DC</td>\n        </tr>\n        <tr>\n            <td>2</td>\n            <td>Accept</td>\n        </tr>\n        <tr>\n            <td>3</td>\n            <td>Aerosmith</td>\n        </tr>\n        <tr>\n            <td>4</td>\n            <td>Alanis Morissette</td>\n        </tr>\n        <tr>\n            <td>5</td>\n            <td>Alice In Chains</td>\n        </tr>\n        <tr>\n            <td>6</td>\n            <td>Antônio Carlos Jobim</td>\n        </tr>\n        <tr>\n            <td>7</td>\n            <td>Apocalyptica</td>\n        </tr>\n        <tr>\n            <td>8</td>\n            <td>Audioslave</td>\n        </tr>\n        <tr>\n            <td>9</td>\n            <td>BackBeat</td>\n        </tr>\n        <tr>\n            <td>10</td>\n            <td>Billy Cobham</td>\n        </tr>\n    </tbody>\n</table>\n<span style=\"font-style:italic;text-align:center;\">Truncated to <a href=\"https://jupysql.ploomber.io/en/latest/api/configuration.html#displaylimit\">displaylimit</a> of 10.</span>"
          },
          "metadata": {}
        }
      ],
      "execution_count": 12
    },
    {
      "id": "762c6aa4-7c69-416e-b121-df27ff11fb27",
      "cell_type": "markdown",
      "source": "Sometimes our queries get quite large! To split the query over multiple lines, we type `%%sql` and then write the query.",
      "metadata": {}
    },
    {
      "id": "b0be42a9-b91c-4c6d-b2d4-4d461ad72a90",
      "cell_type": "code",
      "source": "%%sql --save top_artist\nSELECT Artist.Name, COUNT(*) AS AlbumCount\nFROM Album\nJOIN Artist ON Album.ArtistId = Artist.ArtistId\nGROUP BY Artist.Name\nORDER BY AlbumCount DESC\nLIMIT 10;",
      "metadata": {
        "trusted": true
      },
      "outputs": [
        {
          "output_type": "display_data",
          "data": {
            "text/plain": "Running query in 'sqlite:///../data/chinook.sqlite'",
            "text/html": "<span style=\"None\">Running query in &#x27;sqlite:///../data/chinook.sqlite&#x27;</span>"
          },
          "metadata": {}
        },
        {
          "execution_count": 13,
          "output_type": "execute_result",
          "data": {
            "text/plain": "+-----------------+------------+\n|       Name      | AlbumCount |\n+-----------------+------------+\n|   Iron Maiden   |     21     |\n|   Led Zeppelin  |     14     |\n|   Deep Purple   |     11     |\n|        U2       |     10     |\n|    Metallica    |     10     |\n|  Ozzy Osbourne  |     6      |\n|    Pearl Jam    |     5      |\n| Various Artists |     4      |\n|    Van Halen    |     4      |\n|       Lost      |     4      |\n+-----------------+------------+\nTruncated to displaylimit of 10.",
            "text/html": "<table>\n    <thead>\n        <tr>\n            <th>Name</th>\n            <th>AlbumCount</th>\n        </tr>\n    </thead>\n    <tbody>\n        <tr>\n            <td>Iron Maiden</td>\n            <td>21</td>\n        </tr>\n        <tr>\n            <td>Led Zeppelin</td>\n            <td>14</td>\n        </tr>\n        <tr>\n            <td>Deep Purple</td>\n            <td>11</td>\n        </tr>\n        <tr>\n            <td>U2</td>\n            <td>10</td>\n        </tr>\n        <tr>\n            <td>Metallica</td>\n            <td>10</td>\n        </tr>\n        <tr>\n            <td>Ozzy Osbourne</td>\n            <td>6</td>\n        </tr>\n        <tr>\n            <td>Pearl Jam</td>\n            <td>5</td>\n        </tr>\n        <tr>\n            <td>Various Artists</td>\n            <td>4</td>\n        </tr>\n        <tr>\n            <td>Van Halen</td>\n            <td>4</td>\n        </tr>\n        <tr>\n            <td>Lost</td>\n            <td>4</td>\n        </tr>\n    </tbody>\n</table>\n<span style=\"font-style:italic;text-align:center;\">Truncated to <a href=\"https://jupysql.ploomber.io/en/latest/api/configuration.html#displaylimit\">displaylimit</a> of 10.</span>"
          },
          "metadata": {}
        }
      ],
      "execution_count": 13
    },
    {
      "id": "2e77bd6d-973f-40f9-8044-a858c7d07b54",
      "cell_type": "markdown",
      "source": "Notice that we stored the query above, so we can reuse it",
      "metadata": {}
    },
    {
      "id": "644f982f-df25-4eae-9852-2769b2a3c61c",
      "cell_type": "code",
      "source": "%sql SELECT * FROM top_artist LIMIT 3;",
      "metadata": {
        "trusted": true
      },
      "outputs": [
        {
          "output_type": "display_data",
          "data": {
            "text/plain": "Generating CTE with stored snippets: 'top_artist'",
            "text/html": "<span style=\"None\">Generating CTE with stored snippets: &#x27;top_artist&#x27;</span>"
          },
          "metadata": {}
        },
        {
          "output_type": "display_data",
          "data": {
            "text/plain": "Running query in 'sqlite:///../data/chinook.sqlite'",
            "text/html": "<span style=\"None\">Running query in &#x27;sqlite:///../data/chinook.sqlite&#x27;</span>"
          },
          "metadata": {}
        },
        {
          "execution_count": 14,
          "output_type": "execute_result",
          "data": {
            "text/plain": "+--------------+------------+\n|     Name     | AlbumCount |\n+--------------+------------+\n| Iron Maiden  |     21     |\n| Led Zeppelin |     14     |\n| Deep Purple  |     11     |\n+--------------+------------+",
            "text/html": "<table>\n    <thead>\n        <tr>\n            <th>Name</th>\n            <th>AlbumCount</th>\n        </tr>\n    </thead>\n    <tbody>\n        <tr>\n            <td>Iron Maiden</td>\n            <td>21</td>\n        </tr>\n        <tr>\n            <td>Led Zeppelin</td>\n            <td>14</td>\n        </tr>\n        <tr>\n            <td>Deep Purple</td>\n            <td>11</td>\n        </tr>\n    </tbody>\n</table>"
          },
          "metadata": {}
        }
      ],
      "execution_count": 14
    },
    {
      "id": "5b508292-df3b-4923-8940-a0c825f38bac",
      "cell_type": "markdown",
      "source": "## Exploring tables\n\nWe can explore tables in HTML format by using `%sqlcmd explore`",
      "metadata": {}
    },
    {
      "id": "6c20024d-9077-4243-8216-74cde12e334e",
      "cell_type": "code",
      "source": "%sqlcmd explore --table \"Artist\"",
      "metadata": {
        "trusted": true
      },
      "outputs": [
        {
          "execution_count": 15,
          "output_type": "execute_result",
          "data": {
            "text/plain": "<sql.widgets.table_widget.table_widget.TableWidget at 0x30573b8>",
            "text/html": "\n    <style>.sort-button {\n    background: none;\n    border: none;\n}\n\n.sort-button.selected {\n    background: #efefef;\n    border: 1px solid #767676;\n}\n\n.pages-buttons button.selected {\n    background: #efefef;\n    border: 1px solid #767676;\n    border-radius: 2px;\n}\n.pages-buttons button {\n    background: none;\n    border: none;\n    padding: 0 10px;\n}\n.jupysql-table-widget {\n    display: inline;\n}</style>\n    \n            <div id=\"tableContainer_1743716915\" class=\"table-container\"></div>\n            \n    <script>function isJupyterNotebook() {\n    return window[\"Jupyter\"];\n}\n\nfunction getTable(element) {\n    let table;\n    if (element) {\n        const tableContainer = element.closest(\".table-container\");\n        table = tableContainer.querySelector(\"table\");\n    } else {\n        const _isJupyterNotebook = isJupyterNotebook();\n        if (_isJupyterNotebook) {\n            table = document.querySelector(\".selected .table-container table\");\n        } else {\n            table = document.querySelector(\".jp-Cell.jp-mod-active .table-container table\");\n        }\n    }\n\n    return table;\n}\n\nfunction getSortDetails() {\n    let sort = undefined;\n\n    const table = getTable();\n    if (table) {\n        const column = table.getAttribute(\"sort-by-column\");\n        const order = table.getAttribute(\"sort-by-order\");\n\n        if (column && order) {\n            sort = {\n                \"column\" : column,\n                \"order\" : order\n            }\n        }\n    }\n\n    return sort;\n}\n\nfunction sortColumnClick(element, column, order, callback) {\n    // fetch data with sort logic\n    const table = getTable(element);\n    table.setAttribute(\"sort-by-column\", column);\n    table.setAttribute(\"sort-by-order\", order);\n    const rowsPerPage = table.getAttribute(\"rows-per-page\");\n    const currrPage = table.getAttribute(\"curr-page-idx\");\n\n    const sort = {\n        'column' : column,\n        'order' : order\n    }\n\n    const fetchParameters = {\n        rowsPerPage : parseInt(rowsPerPage),\n        page : parseInt(currrPage),\n        sort : sort,\n        table : table.getAttribute(\"table-name\")\n    }\n\n    fetchTableData(fetchParameters, callback)\n}\n\nfunction fetchTableData(fetchParameters, callback) {\n    \n    sendObject = {\n        'nRows' : fetchParameters.rowsPerPage,\n        'page': fetchParameters.page,\n        'table' : fetchParameters.table\n    }\n\n    if (fetchParameters.sort) {\n        sendObject.sort = fetchParameters.sort\n    }\n\n    const _isJupyterNotebook = isJupyterNotebook();\n\n\n    if (_isJupyterNotebook) {\n        // for Jupyter Notebook\n        const comm =\n        Jupyter.notebook.kernel.comm_manager.new_comm('comm_target_handle_table_widget', {})\n        comm.send(sendObject)\n        comm.on_msg(function(msg) {\n            const rows = JSON.parse(msg.content.data['rows']);\n            if (callback) {\n                callback(rows)\n            }\n        });\n    } else{\n        // for JupyterLab\n        dispatchEventToKernel(sendObject)\n\n        const controller = new AbortController();\n    \n        document.addEventListener('onTableWidgetRowsReady', (customEvent) => {\n            const rows = JSON.parse(customEvent.detail.data.rows)\n            controller.abort()\n            if (callback) {\n                callback(rows)\n            }\n        }, {signal: controller.signal})\n    }\n\n\n}\n\n\nfunction dispatchEventToKernel(data) {\n    let customEvent = new CustomEvent('onUpdateTableWidget', {\n    bubbles: true,\n    cancelable: true,\n    composed: false,\n    detail : {\n        data : data\n    }\n    });\n    document.body.dispatchEvent(customEvent)\n}         \n\nfunction handleRowsNumberOfRowsChange(e) {\n    const rowsPerPage = parseInt(e.value);\n    let table = getTable();\n    table.setAttribute('rows-per-page', rowsPerPage);\n\n    const nTotal = table.getAttribute('n-total');\n\n    const maxPages = Math.ceil(nTotal / rowsPerPage)\n    table.setAttribute('max-pages', maxPages);\n\n    const fetchParameters = {\n        rowsPerPage : rowsPerPage,\n        page : 0,\n        sort : getSortDetails(),\n        table : table.getAttribute(\"table-name\")\n    }\n\n    setTimeout(() => {\n        fetchTableData(fetchParameters, (rows) => {\n            updateTable(rows);\n        })\n    }, 100);\n}\n\nfunction updateTable(rows, currPage, tableToUpdate) {\n    const table = tableToUpdate || getTable();\n    const trs = table.querySelectorAll(\"tbody tr\");\n    const tbody = table.querySelector(\"tbody\");\n    tbody.innerHTML = \"\";\n\n    const _html = createTableRows(rows)\n\n    tbody.innerHTML = _html\n\n    setTimeout(() => {\n        updatePaginationBar(table, currPage || 0)\n    }, 100)\n}\n\nfunction createTableRows(rows) {\n    const _html = rows.map(function(row) {\n        const tds =\n        Object.keys(row).map(function(key) {\n\n            return \"<td>\" + row[key] + \"</td>\"\n        }).join(\"\") ;\n        return \"<tr>\" + tds + \"</tr>\";\n    }).join(\"\");\n\n    return _html\n}\n\nfunction showTablePage(page, rowsPerPage, data) {\n    const table = getTable();\n    const trs = table.querySelectorAll(\"tbody tr\");\n    const tbody = table.querySelector(\"tbody\");\n    tbody.innerHTML = \"\";\n\n    const rows = data;\n    const startIndex = page * rowsPerPage;\n    const endIndex = startIndex + rowsPerPage;\n    const _html = rows.map(row => {\n        const tds =\n        Object.keys(row).map(key => `<td>${row[key]}</td>`).join(\"\");\n        return `<tr>${tds}</tr>`;\n    }).join(\"\");\n\n    tbody.innerHTML = _html;\n\n    table.setAttribute(\"curr-page-idx\", page);\n    updatePaginationBar(table, page);\n}\n\nfunction nextPageClick(element) {\n    const table = getTable(element);\n    const currPageIndex = parseInt(table.getAttribute(\"curr-page-idx\"));\n    const rowsPerPage = parseInt(table.getAttribute(\"rows-per-page\"));\n    const maxPages = parseInt(table.getAttribute(\"max-pages\"));\n\n    const nextPage = currPageIndex + 1;\n    if (nextPage < maxPages) {\n        const fetchParameters = {\n            rowsPerPage : rowsPerPage,\n            page : nextPage,\n            sort : getSortDetails(),\n            table : table.getAttribute(\"table-name\")\n        }\n\n        fetchTableData(fetchParameters, (rows) => {\n            showTablePage(nextPage, rowsPerPage, rows)\n        });\n    }\n\n}\n\nfunction prevPageClick() {\n    const table = getTable();\n    const currPageIndex = parseInt(table.getAttribute(\"curr-page-idx\"));\n    const rowsPerPage = parseInt(table.getAttribute(\"rows-per-page\"));\n    const prevPage = currPageIndex - 1;\n    if (prevPage >= 0) {\n        const fetchParameters = {\n            rowsPerPage : rowsPerPage,\n            page : prevPage,\n            sort : getSortDetails(),\n            table : table.getAttribute(\"table-name\")\n        }\n\n        fetchTableData(fetchParameters, (rows) => {\n            showTablePage(prevPage, rowsPerPage, rows)\n        });\n    }\n}\n\nfunction setPageButton(table, label, navigateTo, isSelected) {\n    const rowsPerPage = parseInt(table.getAttribute(\"rows-per-page\"));\n    const selected = isSelected ? \"selected\" : \"\";\n\n    const button = `\n    <button class=\"${selected}\"\n            onclick=\"\n            fetchTableData({\n                rowsPerPage : ${rowsPerPage},\n                page : ${navigateTo},\n                sort : getSortDetails(),\n                table : getTable(this).getAttribute('table-name')\n            },\n            (rows) => {\n                showTablePage(${navigateTo}, ${rowsPerPage}, rows);\n                })\"\n    >\n        ${label}\n    </button>\n    `\n    return button;\n}\n\nfunction updatePaginationBar(table, currPage) {\n    const maxPages = parseInt(table.getAttribute(\"max-pages\"));\n    const maxPagesInRow = 6;\n    const rowsPerPage = parseInt(table.getAttribute(\"rows-per-page\"));\n    table.setAttribute(\"curr-page-idx\", currPage);\n\n    let buttonsArray = []\n\n    let startEllipsisAdded = false\n    let endEllipsisAdded = false\n\n    // add first\n    let selected = currPage === 0;\n    buttonsArray.push(setPageButton(table, \"1\", 0, selected));\n\n    for (i = 1; i < maxPages - 1; i++) {\n        const navigateTo = i;\n        const label = i + 1;\n        selected = currPage === i;\n        const inStartRange = currPage < maxPagesInRow;\n        const inEndRange = maxPages - 1 - currPage < maxPagesInRow;\n\n        if (inStartRange) {\n            if (i < maxPagesInRow) {\n                buttonsArray\n                .push(setPageButton(table, label, navigateTo, selected));\n            } else {\n            if (!startEllipsisAdded) {\n                buttonsArray.push(\"...\");\n                startEllipsisAdded = true;\n            }\n            }\n        } else if (inEndRange) {\n            if (maxPages - 1 - i < maxPagesInRow) {\n                buttonsArray\n                .push(setPageButton(table, label, navigateTo, selected));\n            } else {\n            if (!endEllipsisAdded) {\n                buttonsArray.push(\"...\");\n                endEllipsisAdded = true;\n            }\n            }\n        }\n\n        if (!inStartRange && !inEndRange) {\n            if (currPage === i-2) {\n                buttonsArray.push(\"...\");\n            }\n            if (\n                currPage === i - 1 ||\n                currPage === i ||\n                currPage === i + 1\n            ) {\n                buttonsArray\n                .push(setPageButton(table, label, navigateTo, selected))\n            }\n\n            if (currPage === i+2) {\n                buttonsArray.push(\"...\");\n            }\n\n        }\n    }\n\n    selected = currPage === maxPages - 1 ? \"selected\" : \"\";\n\n    buttonsArray.\n    push(setPageButton(table, maxPages, maxPages - 1, selected))\n\n    const buttonsHtml = buttonsArray.join(\"\");\n    table.parentNode\n    .querySelector(\".pages-buttons\").innerHTML = buttonsHtml;\n}\n\nfunction removeSelectionFromAllSortButtons() {\n    document.querySelectorAll(\".sort-button\")\n    .forEach(el => el.classList.remove(\"selected\"))\n}\n\nfunction initTable() {\n    // template variables we should pass\n    const initialRows = [\n    {\n        \"ArtistId\": 1,\n        \"Name\": \"AC/DC\"\n    },\n    {\n        \"ArtistId\": 2,\n        \"Name\": \"Accept\"\n    },\n    {\n        \"ArtistId\": 3,\n        \"Name\": \"Aerosmith\"\n    },\n    {\n        \"ArtistId\": 4,\n        \"Name\": \"Alanis Morissette\"\n    },\n    {\n        \"ArtistId\": 5,\n        \"Name\": \"Alice In Chains\"\n    },\n    {\n        \"ArtistId\": 6,\n        \"Name\": \"Ant\\u00f4nio Carlos Jobim\"\n    },\n    {\n        \"ArtistId\": 7,\n        \"Name\": \"Apocalyptica\"\n    },\n    {\n        \"ArtistId\": 8,\n        \"Name\": \"Audioslave\"\n    },\n    {\n        \"ArtistId\": 9,\n        \"Name\": \"BackBeat\"\n    },\n    {\n        \"ArtistId\": 10,\n        \"Name\": \"Billy Cobham\"\n    }\n];\n    const columns = ['ArtistId', 'Name'];\n    const rowsPerPage=10;\n    const nPages=28;\n    const nTotal=275;\n    const tableName=\"Artist\";\n    const tableContainerId = \"tableContainer_1743716915\";\n    const options = [10, 25, 50, 100];\n    options_html =\n    options.map(option => `<option value=${option}>${option}</option>`);\n\n\n    let ths_ = columns.map(col => `<th>${col}</th>`).join(\"\");\n\n    let table = `\n    <div>\n        <span style=\"margin-right: 5px\">Show</span>\n        <select\n        onchange=\"handleRowsNumberOfRowsChange(this)\">\n            ${options_html}\n        </select>\n        <span style=\"margin-left: 5px\">entries</span>\n    </div>\n\n    <table\n        class=\"jupysql-table-widget\"\n        style='width:100%'\n        curr-page-idx=0\n        rows-per-page=${rowsPerPage}\n        max-pages = ${nPages}\n        n-total=${nTotal}\n        table-name=${tableName}\n    >\n        <thead>\n            <tr>\n                ${ths_}\n            </tr>\n        </thead>\n\n        <tbody>\n        </tbody>\n    </table>\n\n\n    <div style=\"padding-bottom: 20px;\">\n        <button onclick=\"prevPageClick(this)\">Previous</button>\n        <div\n            id = \"pagesButtons\"\n            class = \"pages-buttons\"\n            style = \"display: inline-flex\">\n        </div>\n        <button onclick=\"nextPageClick(this)\">Next</button>\n    </div>\n    `\n\n    let tableContainer = document.querySelector(`#${tableContainerId}`);\n\n    tableContainer.innerHTML = table\n\n    if (initialRows) {\n        initializeTableRows(tableContainer, rowsPerPage, initialRows)\n\n    } else {\n        setTimeout(() => {\n            const fetchParameters = {\n                rowsPerPage : rowsPerPage,\n                page : 0,\n                sort : getSortDetails(),\n                table : tableName\n            }\n\n            fetchTableData(fetchParameters, (rows) => {\n                initializeTableRows(tableContainer, rowsPerPage, rows)\n            })\n        }, 100);\n    }\n    \n}\n\nfunction initializeTableRows(tableContainer, rowsPerPage, rows) {\n    updateTable(rows, 0,\n        tableContainer.querySelector(\"table\"));\n    // update ths_ to make sure order columns\n    // are matching the data\n    if (rows.length > 0) {\n        let row = rows[0];\n        let ths_ =\n        Object.keys(row).map(col =>\n        `<th>\n            <div style=\"display: inline-flex; height: 40px\">\n                <span style=\"line-height: 40px\">${col}</span>\n                <span style=\"width: 40px;\">\n                    <button\n                        class = \"sort-button\"\n                        onclick='sortColumnClick(this,\n                        \"${col}\", \"ASC\",\n                        (rows) => {\n                            const table = getTable(this);\n                            const currPage =\n                            parseInt(table.getAttribute(\"curr-page-idx\"));\n                            updateTable(rows, currPage);\n                            removeSelectionFromAllSortButtons()\n                            this.className += \" selected\"\n                            }\n                        )'\n                        title=\"Sort\"\n                        >▴\n                    </button>\n                    <button\n                        class = \"sort-button\"\n                        onclick='sortColumnClick(this,\n                        \"${col}\", \"DESC\",\n                        (rows) => {\n                            const table = getTable(this);\n                            const currPage = parseInt(\n                                table.getAttribute(\"curr-page-idx\"));\n                            updateTable(rows, currPage);\n                            removeSelectionFromAllSortButtons()\n                            this.className += \" selected\"\n                            }\n                        )'\n                        title=\"Sort\"\n                        >▾\n                    </button>\n                </span>\n            </div>\n\n            </th>`).join(\"\");\n        let thead = tableContainer.querySelector(\"thead\")\n        thead.innerHTML = ths_\n    }\n}\n\ninitTable()</script>\n    "
          },
          "metadata": {}
        }
      ],
      "execution_count": 15
    },
    {
      "id": "dd8661c5-850f-42f0-be80-2c6386441521",
      "cell_type": "markdown",
      "source": "## Data profiling\n\nTo list all available tables, we have the `tables` command",
      "metadata": {}
    },
    {
      "id": "15508280-03fb-40a4-947b-a9b2ad80d4fb",
      "cell_type": "code",
      "source": "%sqlcmd tables",
      "metadata": {
        "trusted": true
      },
      "outputs": [
        {
          "execution_count": 16,
          "output_type": "execute_result",
          "data": {
            "text/plain": "+---------------+\n|      Name     |\n+---------------+\n|     Album     |\n|     Artist    |\n|    Customer   |\n|    Employee   |\n|     Genre     |\n|    Invoice    |\n|  InvoiceLine  |\n|   MediaType   |\n|    Playlist   |\n| PlaylistTrack |\n|     Track     |\n+---------------+",
            "text/html": "<table>\n    <thead>\n        <tr>\n            <th>Name</th>\n        </tr>\n    </thead>\n    <tbody>\n        <tr>\n            <td>Album</td>\n        </tr>\n        <tr>\n            <td>Artist</td>\n        </tr>\n        <tr>\n            <td>Customer</td>\n        </tr>\n        <tr>\n            <td>Employee</td>\n        </tr>\n        <tr>\n            <td>Genre</td>\n        </tr>\n        <tr>\n            <td>Invoice</td>\n        </tr>\n        <tr>\n            <td>InvoiceLine</td>\n        </tr>\n        <tr>\n            <td>MediaType</td>\n        </tr>\n        <tr>\n            <td>Playlist</td>\n        </tr>\n        <tr>\n            <td>PlaylistTrack</td>\n        </tr>\n        <tr>\n            <td>Track</td>\n        </tr>\n    </tbody>\n</table>"
          },
          "metadata": {}
        }
      ],
      "execution_count": 16
    },
    {
      "id": "49046578-ab5a-4b0d-8385-6e994e3b9eff",
      "cell_type": "markdown",
      "source": "To explore a table, we have the `columns` command",
      "metadata": {}
    },
    {
      "id": "bc1454aa-da3a-4901-8c09-607b600b2f0a",
      "cell_type": "code",
      "source": "%sqlcmd columns --table Track",
      "metadata": {
        "trusted": true
      },
      "outputs": [
        {
          "execution_count": 17,
          "output_type": "execute_result",
          "data": {
            "text/plain": "+--------------+----------------+----------+---------+-------------+\n|     name     |      type      | nullable | default | primary_key |\n+--------------+----------------+----------+---------+-------------+\n|   TrackId    |    INTEGER     |  False   |   None  |      1      |\n|     Name     | NVARCHAR(200)  |  False   |   None  |      0      |\n|   AlbumId    |    INTEGER     |   True   |   None  |      0      |\n| MediaTypeId  |    INTEGER     |  False   |   None  |      0      |\n|   GenreId    |    INTEGER     |   True   |   None  |      0      |\n|   Composer   | NVARCHAR(220)  |   True   |   None  |      0      |\n| Milliseconds |    INTEGER     |  False   |   None  |      0      |\n|    Bytes     |    INTEGER     |   True   |   None  |      0      |\n|  UnitPrice   | NUMERIC(10, 2) |  False   |   None  |      0      |\n+--------------+----------------+----------+---------+-------------+",
            "text/html": "<table>\n    <thead>\n        <tr>\n            <th>name</th>\n            <th>type</th>\n            <th>nullable</th>\n            <th>default</th>\n            <th>primary_key</th>\n        </tr>\n    </thead>\n    <tbody>\n        <tr>\n            <td>TrackId</td>\n            <td>INTEGER</td>\n            <td>False</td>\n            <td>None</td>\n            <td>1</td>\n        </tr>\n        <tr>\n            <td>Name</td>\n            <td>NVARCHAR(200)</td>\n            <td>False</td>\n            <td>None</td>\n            <td>0</td>\n        </tr>\n        <tr>\n            <td>AlbumId</td>\n            <td>INTEGER</td>\n            <td>True</td>\n            <td>None</td>\n            <td>0</td>\n        </tr>\n        <tr>\n            <td>MediaTypeId</td>\n            <td>INTEGER</td>\n            <td>False</td>\n            <td>None</td>\n            <td>0</td>\n        </tr>\n        <tr>\n            <td>GenreId</td>\n            <td>INTEGER</td>\n            <td>True</td>\n            <td>None</td>\n            <td>0</td>\n        </tr>\n        <tr>\n            <td>Composer</td>\n            <td>NVARCHAR(220)</td>\n            <td>True</td>\n            <td>None</td>\n            <td>0</td>\n        </tr>\n        <tr>\n            <td>Milliseconds</td>\n            <td>INTEGER</td>\n            <td>False</td>\n            <td>None</td>\n            <td>0</td>\n        </tr>\n        <tr>\n            <td>Bytes</td>\n            <td>INTEGER</td>\n            <td>True</td>\n            <td>None</td>\n            <td>0</td>\n        </tr>\n        <tr>\n            <td>UnitPrice</td>\n            <td>NUMERIC(10, 2)</td>\n            <td>False</td>\n            <td>None</td>\n            <td>0</td>\n        </tr>\n    </tbody>\n</table>"
          },
          "metadata": {}
        }
      ],
      "execution_count": 17
    },
    {
      "id": "7570d64c-1aef-4433-8cdc-91810b805833",
      "cell_type": "markdown",
      "source": "We can do simple data profiling with the `profile` command",
      "metadata": {}
    },
    {
      "id": "f151e7b7-aa85-4bf3-884e-cf63cd07e779",
      "cell_type": "code",
      "source": "%sqlcmd profile --table Track",
      "metadata": {
        "trusted": true
      },
      "outputs": [
        {
          "execution_count": 19,
          "output_type": "execute_result",
          "data": {
            "text/plain": "+--------+-----------+------------+----------+-------------+---------+--------------+--------------+---------------+-----------+\n|        |  TrackId  |    Name    | AlbumId  | MediaTypeId | GenreId |   Composer   | Milliseconds |     Bytes     | UnitPrice |\n+--------+-----------+------------+----------+-------------+---------+--------------+--------------+---------------+-----------+\n| count  |    3503   |    3503    |   3503   |     3503    |   3503  |     2525     |     3503     |      3503     |    3503   |\n| unique |    3503   |    3257    |   347    |      5      |    25   |     852      |     3080     |      3501     |     2     |\n|  top   |    nan    | Wrathchild |   nan    |     nan     |   nan   | Steve Harris |     nan      |      nan      |    nan    |\n|  freq  |    nan    |     5      |   nan    |     nan     |   nan   |      80      |     nan      |      nan      |    nan    |\n|  mean  | 1752.0000 |    nan     | 140.9295 |    1.2084   |  5.7254 |     nan      | 393599.2121  | 33510207.0654 |   1.0508  |\n|  min   |     1     |    nan     |    1     |      1      |    1    |     nan      |     1071     |     38747     |    0.99   |\n|  max   |    3503   |    nan     |   347    |      5      |    25   |     nan      |   5286953    |   1059546140  |    1.99   |\n+--------+-----------+------------+----------+-------------+---------+--------------+--------------+---------------+-----------+",
            "text/html": "<div style='position: sticky; left: 0; padding: 10px; font-size: 12px; color: #FFA500'><strong></strong> Following statistics are not available in\n            pysqlite: STD, 25%, 50%, 75%</div><style>\n #profile-table td:first-child {\n  position: sticky;\n  left: 0;\n  background-color: var(--jp-cell-editor-background);\n  font-weight: bold;\n}\n #profile-table thead tr th:first-child {\n  position: sticky;\n  left: 0;\n  background-color: var(--jp-cell-editor-background);\n  font-weight: bold; /* Adding bold text */\n}\n            </style><style></style><table id=\"profile-table-e2e40835de494528a64c203594a29466\">\n    <thead>\n        <tr>\n            <th> </th>\n            <th>TrackId</th>\n            <th>Name</th>\n            <th>AlbumId</th>\n            <th>MediaTypeId</th>\n            <th>GenreId</th>\n            <th>Composer</th>\n            <th>Milliseconds</th>\n            <th>Bytes</th>\n            <th>UnitPrice</th>\n        </tr>\n    </thead>\n    <tbody>\n        <tr>\n            <td>count</td>\n            <td>3503</td>\n            <td>3503</td>\n            <td>3503</td>\n            <td>3503</td>\n            <td>3503</td>\n            <td>2525</td>\n            <td>3503</td>\n            <td>3503</td>\n            <td>3503</td>\n        </tr>\n        <tr>\n            <td>unique</td>\n            <td>3503</td>\n            <td>3257</td>\n            <td>347</td>\n            <td>5</td>\n            <td>25</td>\n            <td>852</td>\n            <td>3080</td>\n            <td>3501</td>\n            <td>2</td>\n        </tr>\n        <tr>\n            <td>top</td>\n            <td>nan</td>\n            <td>Wrathchild</td>\n            <td>nan</td>\n            <td>nan</td>\n            <td>nan</td>\n            <td>Steve Harris</td>\n            <td>nan</td>\n            <td>nan</td>\n            <td>nan</td>\n        </tr>\n        <tr>\n            <td>freq</td>\n            <td>nan</td>\n            <td>5</td>\n            <td>nan</td>\n            <td>nan</td>\n            <td>nan</td>\n            <td>80</td>\n            <td>nan</td>\n            <td>nan</td>\n            <td>nan</td>\n        </tr>\n        <tr>\n            <td>mean</td>\n            <td>1752.0000</td>\n            <td>nan</td>\n            <td>140.9295</td>\n            <td>1.2084</td>\n            <td>5.7254</td>\n            <td>nan</td>\n            <td>393599.2121</td>\n            <td>33510207.0654</td>\n            <td>1.0508</td>\n        </tr>\n        <tr>\n            <td>min</td>\n            <td>1</td>\n            <td>nan</td>\n            <td>1</td>\n            <td>1</td>\n            <td>1</td>\n            <td>nan</td>\n            <td>1071</td>\n            <td>38747</td>\n            <td>0.99</td>\n        </tr>\n        <tr>\n            <td>max</td>\n            <td>3503</td>\n            <td>nan</td>\n            <td>347</td>\n            <td>5</td>\n            <td>25</td>\n            <td>nan</td>\n            <td>5286953</td>\n            <td>1059546140</td>\n            <td>1.99</td>\n        </tr>\n    </tbody>\n</table><div style='position: sticky; left: 0; padding: 10px; font-size: 12px; color: black; background-color: white;'><strong></strong> </div>"
          },
          "metadata": {}
        }
      ],
      "execution_count": 19
    },
    {
      "id": "98fbeaa1-4543-424f-80b2-410d43a0d045",
      "cell_type": "code",
      "source": "",
      "metadata": {
        "trusted": true
      },
      "outputs": [],
      "execution_count": null
    }
  ]
}